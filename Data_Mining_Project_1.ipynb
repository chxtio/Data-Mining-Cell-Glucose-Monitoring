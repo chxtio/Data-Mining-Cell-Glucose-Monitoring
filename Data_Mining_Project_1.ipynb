{
  "nbformat": 4,
  "nbformat_minor": 0,
  "metadata": {
    "colab": {
      "name": "Data Mining-Project 1.ipynb",
      "provenance": [],
      "collapsed_sections": [],
      "authorship_tag": "ABX9TyP5VDEBfBNoLYMMFBBeDLN8",
      "include_colab_link": true
    },
    "kernelspec": {
      "name": "python3",
      "display_name": "Python 3"
    }
  },
  "cells": [
    {
      "cell_type": "markdown",
      "metadata": {
        "id": "view-in-github",
        "colab_type": "text"
      },
      "source": [
        "<a href=\"https://colab.research.google.com/github/chxtio/Data-Mining-Cell-Glucose-Monitoring/blob/master/Data_Mining_Project_1.ipynb\" target=\"_parent\"><img src=\"https://colab.research.google.com/assets/colab-badge.svg\" alt=\"Open In Colab\"/></a>"
      ]
    },
    {
      "cell_type": "markdown",
      "metadata": {
        "id": "3LxbuO0SFWli"
      },
      "source": [
        "# Extracting Time Series Properties of Glucose Levels in Artificial Pancreas"
      ]
    },
    {
      "cell_type": "markdown",
      "metadata": {
        "id": "t0yycWAHCS8w"
      },
      "source": [
        "Import required packages"
      ]
    },
    {
      "cell_type": "code",
      "metadata": {
        "id": "ZTRX59YOB87V"
      },
      "source": [
        "import numpy as np\r\n",
        "import pandas as pd"
      ],
      "execution_count": 1,
      "outputs": []
    },
    {
      "cell_type": "markdown",
      "metadata": {
        "id": "LARLmVvII1FT"
      },
      "source": [
        "Assume 288 samples per day"
      ]
    },
    {
      "cell_type": "code",
      "metadata": {
        "id": "09SkmeC9dABs"
      },
      "source": [
        "TOTAL_PER_DAY = 288\r\n",
        "DROP_THRESHOLD = .8"
      ],
      "execution_count": 2,
      "outputs": []
    },
    {
      "cell_type": "markdown",
      "metadata": {
        "id": "35WiudTF62IX"
      },
      "source": [
        "## Data Cleaning"
      ]
    },
    {
      "cell_type": "code",
      "metadata": {
        "id": "D9YGS_Y1fYwI"
      },
      "source": [
        "def clean_data(cgm_modes, cgm_dates):\r\n",
        "  # Remove NaN rows\r\n",
        "  for i in range(len(cgm_modes)):\r\n",
        "    if i == 0:\r\n",
        "      print(\"Manual Mode\")\r\n",
        "    else:\r\n",
        "      print(\"Auto Mode\")\r\n",
        "    print(\"Dropping\", cgm_modes[i].isnull().values.sum(), \"rows\")\r\n",
        "    cgm_modes[i] = cgm_modes[i].dropna()\r\n",
        "\r\n",
        "  # Delete days containing less values than drop threshold\r\n",
        "  for i in range(len(cgm_modes)):\r\n",
        "    count = 0\r\n",
        "    for day in cgm_dates[i]:\r\n",
        "      day_df =  cgm_modes[i][cgm_modes[i]['Date_Time'].dt.date == day]\r\n",
        "      if (len(day_df) / TOTAL_PER_DAY < DROP_THRESHOLD) and (day != cgm_dates[0].max()):\r\n",
        "        cgm_modes[i][cgm_modes[i]['Date_Time'].dt.date == day]  = np.nan\r\n",
        "        count += 1\r\n",
        "    cgm_modes[i] = cgm_modes[i].dropna()\r\n",
        "\r\n",
        "  return cgm_modes, cgm_dates"
      ],
      "execution_count": 3,
      "outputs": []
    },
    {
      "cell_type": "markdown",
      "metadata": {
        "id": "UyrA5fKA7Mo8"
      },
      "source": [
        "## Filter sets based on glucose metrics"
      ]
    },
    {
      "cell_type": "markdown",
      "metadata": {
        "id": "eKTsu5VZCQTO"
      },
      "source": [
        "Time intervals:\r\n",
        "\r\n",
        "        overnight: 00:00:00 - 05:59:59\r\n",
        "        daytime: 06:00:00 - 23:59:59\r\n",
        "        whole day: 00:00:00 - 23:59:59        "
      ]
    },
    {
      "cell_type": "code",
      "metadata": {
        "id": "DpAuRAWHuyQM"
      },
      "source": [
        "def filter_data(interval, cgm_modes, cgm_dates):\r\n",
        "  dict_list = [{}, {}]\r\n",
        "  df_list = []\r\n",
        "  metrics = ['percentage time in hyperglycemia(CGM > 180 mg / dL)', \r\n",
        "            'percentage of time in hyperglycemia critical(CGM > 250 mg / dL)', \r\n",
        "            'percentage time in range(CGM >= 70 mg / dL and CGM <= 180 mg / dL)',\r\n",
        "            'percentage time in range secondary(CGM >= 70 mg / dL and CGM <= 150 mg / dL)',\r\n",
        "            'percentage time in hypoglycemia level 1(CGM < 70 mg / dL)',\r\n",
        "            'percentage time in hypoglycemia level 2(CGM < 54 mg / dL)']\r\n",
        "  for i in range(len(cgm_modes)):\r\n",
        "    if i == 0:\r\n",
        "      print(\"Manual Mode\\n\")\r\n",
        "    else:\r\n",
        "      print(\"Auto Mode\\n\")\r\n",
        "    days = [day for day in cgm_dates[i]]\r\n",
        "    for j in range(len(metrics)):\r\n",
        "      percentages = []\r\n",
        "      for day in cgm_dates[i]: \r\n",
        "        # Choose segment- default is Whole day    \r\n",
        "        day_df =  cgm_modes[i][cgm_modes[i]['Date_Time'].dt.date == day]\r\n",
        "        if interval == \"Overnight\":\r\n",
        "          day_df = day_df[day_df.Date_Time.dt.hour < 6]\r\n",
        "        elif interval == \"Daytime\":\r\n",
        "          day_df = day_df[day_df.Date_Time.dt.hour >= 6]\r\n",
        "        # Extract metrics\r\n",
        "        if metrics[j] == metrics[0]:\r\n",
        "          percentage = (len(day_df[day_df['Sensor Glucose (mg/dL)'] > 180]) * 100) / TOTAL_PER_DAY\r\n",
        "          percentages.append(percentage)\r\n",
        "        elif metrics[j] == metrics[1]:\r\n",
        "          percentage = (len(day_df[day_df['Sensor Glucose (mg/dL)'] > 250]) * 100) / TOTAL_PER_DAY\r\n",
        "          percentages.append(percentage)\r\n",
        "        elif metrics[j] == metrics[2]:\r\n",
        "          percentage = (len(day_df[(day_df['Sensor Glucose (mg/dL)'] >= 70) & (day_df['Sensor Glucose (mg/dL)'] <= 180)]) * 100) / TOTAL_PER_DAY\r\n",
        "          percentages.append(percentage)\r\n",
        "        elif metrics[j] == metrics[3]:\r\n",
        "          percentage = (len(day_df[(day_df['Sensor Glucose (mg/dL)'] >= 70) & (day_df['Sensor Glucose (mg/dL)'] <= 150)]) * 100) / TOTAL_PER_DAY\r\n",
        "          percentages.append(percentage)\r\n",
        "        elif metrics[j] == metrics[4]:\r\n",
        "          percentage = (len(day_df[day_df['Sensor Glucose (mg/dL)'] < 70]) * 100) / TOTAL_PER_DAY\r\n",
        "          percentages.append(percentage)\r\n",
        "        elif metrics[j] == metrics[5]:\r\n",
        "          percentage = (len(day_df[day_df['Sensor Glucose (mg/dL)'] < 54]) * 100) / TOTAL_PER_DAY\r\n",
        "          percentages.append(percentage)\r\n",
        "      dict_list[i][interval + \" \" + metrics[j]] = pd.Series(percentages, index=days)\r\n",
        "    df_list.append(pd.DataFrame(dict_list[i]))\r\n",
        "    #display(dict_list)\r\n",
        "    print(df_list[i])\r\n",
        "\r\n",
        "  return df_list"
      ],
      "execution_count": 4,
      "outputs": []
    },
    {
      "cell_type": "markdown",
      "metadata": {
        "id": "28il84_u7pxe"
      },
      "source": [
        "## Display analysis results"
      ]
    },
    {
      "cell_type": "code",
      "metadata": {
        "collapsed": true,
        "id": "NvaySZGZFkJI"
      },
      "source": [
        "def display(dict_list):\r\n",
        "  for i in range(len(dict_list)):\r\n",
        "    if i == 0:\r\n",
        "      print(\"Manual Mode\\n\")\r\n",
        "    else:\r\n",
        "      print(\"Auto Mode\\n\")\r\n",
        "    for key, value in dict_list[i].items():\r\n",
        "      print(key, value, sep=\"\\n\", end=\"\\n\\n\")"
      ],
      "execution_count": 5,
      "outputs": []
    },
    {
      "cell_type": "markdown",
      "metadata": {
        "id": "TE7RKZoq7nLE"
      },
      "source": [
        "## Output the metrics"
      ]
    },
    {
      "cell_type": "code",
      "metadata": {
        "id": "nZLw-voLnsWd"
      },
      "source": [
        "def get_result(df_overnight_list, df_day_list, df_whole_list):\r\n",
        "  manual_results = []\r\n",
        "  auto_results = []\r\n",
        "  \r\n",
        "  for i in range(len(df_overnight_list)):\r\n",
        "    for col in df_overnight_list[i].columns:\r\n",
        "      if i == 0:\r\n",
        "        manual_results.append(df_overnight_list[i][col].mean())\r\n",
        "      else:\r\n",
        "        auto_results.append(df_overnight_list[i][col].mean())\r\n",
        "\r\n",
        "  for i in range(len(df_day_list)):\r\n",
        "    for col in df_day_list[i].columns:\r\n",
        "      if i == 0:\r\n",
        "        manual_results.append(df_day_list[i][col].mean())\r\n",
        "      else:\r\n",
        "        auto_results.append(df_day_list[i][col].mean())\r\n",
        "\r\n",
        "  for i in range(len(df_whole_list)):\r\n",
        "    for col in df_whole_list[i].columns:\r\n",
        "      if i == 0:\r\n",
        "        manual_results.append(df_whole_list[i][col].mean())\r\n",
        "      else:\r\n",
        "        auto_results.append(df_whole_list[i][col].mean())\r\n",
        "\r\n",
        "  return manual_results, auto_results  "
      ],
      "execution_count": 6,
      "outputs": []
    },
    {
      "cell_type": "code",
      "metadata": {
        "id": "hAcxxoBt1fa_"
      },
      "source": [
        "def main():\r\n",
        "  # Read continuous glucose monitor (CGM) sensor data\r\n",
        "  sensorData = pd.read_csv('CGMData.csv', usecols=['Date','Time', 'Sensor Glucose (mg/dL)'], parse_dates=[['Date', 'Time']])\r\n",
        "\r\n",
        "  # Read insulin pump data\r\n",
        "  insulinData = pd.read_csv('InsulinData.csv', usecols=['Date','Time', 'Alarm'], parse_dates=[['Date', 'Time']])\r\n",
        "\r\n",
        "  # Determine the start of Auto Mode from InsulinData.csv\r\n",
        "  auto_mode_ts = insulinData[insulinData['Alarm'] == 'AUTO MODE ACTIVE PLGM OFF']['Date_Time'].min()\r\n",
        "\r\n",
        "  # Find the timestamp for start of Auto Mode in CGMData.csv\r\n",
        "  cgm_auto_ts = sensorData[sensorData['Date_Time'] >= auto_mode_ts]['Date_Time'].min()\r\n",
        "\r\n",
        "  # Partition CGM data into separate modes (Manual and Auto)\r\n",
        "  print(\"Partitioning data...\")\r\n",
        "  cgm_modes = [sensorData[sensorData['Date_Time'] < cgm_auto_ts], sensorData[sensorData['Date_Time'] >= cgm_auto_ts]]\r\n",
        "  cgm_dates = [cgm_modes[0].Date_Time.dt.date.unique(), cgm_modes[1].Date_Time.dt.date.unique()]\r\n",
        "  for i in range(len(cgm_modes)):\r\n",
        "    if i == 0:\r\n",
        "      print(\"Manual Mode\")\r\n",
        "    else:\r\n",
        "      print(\"Auto Mode\")\r\n",
        "    print(cgm_modes[i], \"\\n\\n\")\r\n",
        "\r\n",
        "  # Get number of days for each mode\r\n",
        "  manual_days, auto_days = cgm_dates[0].shape[0], cgm_dates[1].shape[0]\r\n",
        "  print(\"Days in Manual Mode: \", manual_days, \"\\nDays in Auto Mode: \", auto_days)\r\n",
        "\r\n",
        "  # Clean the data\r\n",
        "  print(\"\\nCleaning the data...\")\r\n",
        "  cgm_modes, cgm_dates = clean_data(cgm_modes, cgm_dates)\r\n",
        "  cgm_dates = [cgm_modes[0].Date_Time.dt.date.unique(), cgm_modes[1].Date_Time.dt.date.unique()]\r\n",
        "  manual_days, auto_days = cgm_dates[0].shape[0], cgm_dates[1].shape[0]\r\n",
        "  print(\"Days in Manual Mode: \", manual_days, \"\\nDays in Auto Mode: \", auto_days)\r\n",
        "\r\n",
        "  # Filter sets based on glucose metrics\r\n",
        "  print(\"\\nFiltering the data...\")  \r\n",
        "  intervals = ['Overnight', 'Daytime', 'Whole day']\r\n",
        "  df_overnight_list = filter_data(intervals[0], cgm_modes, cgm_dates)\r\n",
        "  df_day_list = filter_data(intervals[1], cgm_modes, cgm_dates)\r\n",
        "  df_whole_list = filter_data(intervals[2], cgm_modes, cgm_dates)\r\n",
        "  \r\n",
        "  # Output 2x18 results in CSV file\r\n",
        "  results = np.zeros((2,18))\r\n",
        "  results[0], results[1] = get_result(df_overnight_list, df_day_list, df_whole_list)\r\n",
        "  pd.DataFrame(results).to_csv('./Results.csv', header=False, index_label=False, index=False)"
      ],
      "execution_count": 7,
      "outputs": []
    },
    {
      "cell_type": "code",
      "metadata": {
        "colab": {
          "base_uri": "https://localhost:8080/"
        },
        "id": "Fd80cGOe1AfZ",
        "outputId": "4bbfd02c-e846-4541-b344-cd14321778f9"
      },
      "source": [
        "if __name__ == \"__main__\":\r\n",
        "  main()"
      ],
      "execution_count": 8,
      "outputs": [
        {
          "output_type": "stream",
          "text": [
            "Partitioning data...\n",
            "Manual Mode\n",
            "                Date_Time  Sensor Glucose (mg/dL)\n",
            "51087 2017-08-09 08:05:05                   159.0\n",
            "51088 2017-08-09 08:00:05                   159.0\n",
            "51089 2017-08-09 07:55:05                   158.0\n",
            "51090 2017-08-09 07:50:05                   157.0\n",
            "51091 2017-08-09 07:45:05                   160.0\n",
            "...                   ...                     ...\n",
            "55338 2017-07-25 12:28:54                   311.0\n",
            "55339 2017-07-25 12:23:54                   311.0\n",
            "55340 2017-07-25 12:18:54                   309.0\n",
            "55341 2017-07-25 12:13:54                   310.0\n",
            "55342 2017-07-25 12:08:54                   314.0\n",
            "\n",
            "[4256 rows x 2 columns] \n",
            "\n",
            "\n",
            "Auto Mode\n",
            "                Date_Time  Sensor Glucose (mg/dL)\n",
            "0     2018-02-12 13:22:27                   118.0\n",
            "1     2018-02-12 13:17:27                   122.0\n",
            "2     2018-02-12 13:12:27                     NaN\n",
            "3     2018-02-12 13:07:27                     NaN\n",
            "4     2018-02-12 13:02:27                     NaN\n",
            "...                   ...                     ...\n",
            "51082 2017-08-09 08:30:05                   177.0\n",
            "51083 2017-08-09 08:25:05                   175.0\n",
            "51084 2017-08-09 08:20:05                   176.0\n",
            "51085 2017-08-09 08:15:05                   177.0\n",
            "51086 2017-08-09 08:10:05                   173.0\n",
            "\n",
            "[51087 rows x 2 columns] \n",
            "\n",
            "\n",
            "Days in Manual Mode:  16 \n",
            "Days in Auto Mode:  180\n",
            "\n",
            "Cleaning the data...\n",
            "Manual Mode\n",
            "Dropping 362 rows\n",
            "Auto Mode\n",
            "Dropping 3806 rows\n",
            "Days in Manual Mode:  13 \n",
            "Days in Auto Mode:  153\n",
            "\n",
            "Filtering the data...\n",
            "Manual Mode\n",
            "\n",
            "            Overnight percentage time in hyperglycemia(CGM > 180 mg / dL)  ...  Overnight percentage time in hypoglycemia level 2(CGM < 54 mg / dL)\n",
            "2017-08-09                                          11.111111              ...                                                0.0                  \n",
            "2017-08-08                                           0.000000              ...                                                0.0                  \n",
            "2017-08-07                                           0.000000              ...                                                0.0                  \n",
            "2017-08-06                                           0.000000              ...                                                0.0                  \n",
            "2017-08-04                                           0.000000              ...                                                0.0                  \n",
            "2017-08-03                                          19.097222              ...                                                0.0                  \n",
            "2017-08-02                                           0.000000              ...                                                0.0                  \n",
            "2017-08-01                                           4.166667              ...                                                0.0                  \n",
            "2017-07-30                                           0.000000              ...                                                0.0                  \n",
            "2017-07-29                                          10.416667              ...                                                0.0                  \n",
            "2017-07-28                                           0.000000              ...                                                0.0                  \n",
            "2017-07-27                                          15.625000              ...                                                0.0                  \n",
            "2017-07-26                                           0.000000              ...                                                0.0                  \n",
            "\n",
            "[13 rows x 6 columns]\n",
            "Auto Mode\n",
            "\n",
            "            Overnight percentage time in hyperglycemia(CGM > 180 mg / dL)  ...  Overnight percentage time in hypoglycemia level 2(CGM < 54 mg / dL)\n",
            "2018-02-11                                           0.000000              ...                                           0.000000                  \n",
            "2018-02-10                                           4.513889              ...                                           0.000000                  \n",
            "2018-02-09                                           1.388889              ...                                           0.000000                  \n",
            "2018-02-08                                           2.777778              ...                                           0.000000                  \n",
            "2018-02-07                                           2.083333              ...                                           1.388889                  \n",
            "...                                                       ...              ...                                                ...                  \n",
            "2017-08-14                                           0.000000              ...                                           0.000000                  \n",
            "2017-08-13                                           0.000000              ...                                           0.000000                  \n",
            "2017-08-12                                           0.000000              ...                                           0.000000                  \n",
            "2017-08-11                                           0.000000              ...                                           0.694444                  \n",
            "2017-08-09                                           0.000000              ...                                           0.000000                  \n",
            "\n",
            "[153 rows x 6 columns]\n",
            "Manual Mode\n",
            "\n",
            "            Daytime percentage time in hyperglycemia(CGM > 180 mg / dL)  ...  Daytime percentage time in hypoglycemia level 2(CGM < 54 mg / dL)\n",
            "2017-08-09                                           0.000000            ...                                           0.000000                \n",
            "2017-08-08                                          42.361111            ...                                           0.000000                \n",
            "2017-08-07                                          33.333333            ...                                           1.388889                \n",
            "2017-08-06                                          30.902778            ...                                           0.000000                \n",
            "2017-08-04                                          40.277778            ...                                           0.000000                \n",
            "2017-08-03                                          29.513889            ...                                           2.430556                \n",
            "2017-08-02                                          17.013889            ...                                           0.000000                \n",
            "2017-08-01                                          17.708333            ...                                           0.000000                \n",
            "2017-07-30                                          11.458333            ...                                           2.777778                \n",
            "2017-07-29                                          12.500000            ...                                           0.000000                \n",
            "2017-07-28                                          19.791667            ...                                           4.513889                \n",
            "2017-07-27                                          29.166667            ...                                           3.125000                \n",
            "2017-07-26                                          37.152778            ...                                           6.250000                \n",
            "\n",
            "[13 rows x 6 columns]\n",
            "Auto Mode\n",
            "\n",
            "            Daytime percentage time in hyperglycemia(CGM > 180 mg / dL)  ...  Daytime percentage time in hypoglycemia level 2(CGM < 54 mg / dL)\n",
            "2018-02-11                                          19.097222            ...                                           0.000000                \n",
            "2018-02-10                                           7.291667            ...                                           0.000000                \n",
            "2018-02-09                                          37.500000            ...                                           1.736111                \n",
            "2018-02-08                                          27.083333            ...                                           0.000000                \n",
            "2018-02-07                                          22.916667            ...                                           3.125000                \n",
            "...                                                       ...            ...                                                ...                \n",
            "2017-08-14                                          32.638889            ...                                           2.430556                \n",
            "2017-08-13                                          18.402778            ...                                           1.041667                \n",
            "2017-08-12                                          26.388889            ...                                           0.000000                \n",
            "2017-08-11                                          26.736111            ...                                           0.000000                \n",
            "2017-08-09                                          32.291667            ...                                           0.000000                \n",
            "\n",
            "[153 rows x 6 columns]\n",
            "Manual Mode\n",
            "\n",
            "            Whole day percentage time in hyperglycemia(CGM > 180 mg / dL)  ...  Whole day percentage time in hypoglycemia level 2(CGM < 54 mg / dL)\n",
            "2017-08-09                                          11.111111              ...                                           0.000000                  \n",
            "2017-08-08                                          42.361111              ...                                           0.000000                  \n",
            "2017-08-07                                          33.333333              ...                                           1.388889                  \n",
            "2017-08-06                                          30.902778              ...                                           0.000000                  \n",
            "2017-08-04                                          40.277778              ...                                           0.000000                  \n",
            "2017-08-03                                          48.611111              ...                                           2.430556                  \n",
            "2017-08-02                                          17.013889              ...                                           0.000000                  \n",
            "2017-08-01                                          21.875000              ...                                           0.000000                  \n",
            "2017-07-30                                          11.458333              ...                                           2.777778                  \n",
            "2017-07-29                                          22.916667              ...                                           0.000000                  \n",
            "2017-07-28                                          19.791667              ...                                           4.513889                  \n",
            "2017-07-27                                          44.791667              ...                                           3.125000                  \n",
            "2017-07-26                                          37.152778              ...                                           6.250000                  \n",
            "\n",
            "[13 rows x 6 columns]\n",
            "Auto Mode\n",
            "\n",
            "            Whole day percentage time in hyperglycemia(CGM > 180 mg / dL)  ...  Whole day percentage time in hypoglycemia level 2(CGM < 54 mg / dL)\n",
            "2018-02-11                                          19.097222              ...                                           0.000000                  \n",
            "2018-02-10                                          11.805556              ...                                           0.000000                  \n",
            "2018-02-09                                          38.888889              ...                                           1.736111                  \n",
            "2018-02-08                                          29.861111              ...                                           0.000000                  \n",
            "2018-02-07                                          25.000000              ...                                           4.513889                  \n",
            "...                                                       ...              ...                                                ...                  \n",
            "2017-08-14                                          32.638889              ...                                           2.430556                  \n",
            "2017-08-13                                          18.402778              ...                                           1.041667                  \n",
            "2017-08-12                                          26.388889              ...                                           0.000000                  \n",
            "2017-08-11                                          26.736111              ...                                           0.694444                  \n",
            "2017-08-09                                          32.291667              ...                                           0.000000                  \n",
            "\n",
            "[153 rows x 6 columns]\n"
          ],
          "name": "stdout"
        }
      ]
    }
  ]
}